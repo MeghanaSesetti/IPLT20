{
  "nbformat": 4,
  "nbformat_minor": 0,
  "metadata": {
    "colab": {
      "name": "dream11.ipynb",
      "provenance": []
    },
    "kernelspec": {
      "name": "python3",
      "display_name": "Python 3"
    },
    "language_info": {
      "name": "python"
    }
  },
  "cells": [
    {
      "cell_type": "code",
      "metadata": {
        "colab": {
          "base_uri": "https://localhost:8080/"
        },
        "id": "92f6ftAswXJt",
        "outputId": "dafa76d9-4c11-462d-c683-b7f6aee9be15"
      },
      "source": [
        "from google.colab import drive\n",
        "drive.mount('/content/gdrive')  "
      ],
      "execution_count": 1,
      "outputs": [
        {
          "output_type": "stream",
          "name": "stdout",
          "text": [
            "Drive already mounted at /content/gdrive; to attempt to forcibly remount, call drive.mount(\"/content/gdrive\", force_remount=True).\n"
          ]
        }
      ]
    },
    {
      "cell_type": "code",
      "metadata": {
        "colab": {
          "base_uri": "https://localhost:8080/"
        },
        "id": "7GnjTskZf67F",
        "outputId": "15adc07b-a3a8-4c92-9c75-473d040a7684"
      },
      "source": [
        "!pip install pulp"
      ],
      "execution_count": 2,
      "outputs": [
        {
          "output_type": "stream",
          "name": "stdout",
          "text": [
            "Requirement already satisfied: pulp in /usr/local/lib/python3.7/dist-packages (2.5.0)\n"
          ]
        }
      ]
    },
    {
      "cell_type": "code",
      "metadata": {
        "id": "YobISe39fH7S"
      },
      "source": [
        "import os\n",
        "from typing import List\n",
        "import logging\n",
        "import argparse\n",
        "\n",
        "import pandas as pd\n",
        "import numpy as np\n",
        "from ast import literal_eval\n",
        "import pulp as p"
      ],
      "execution_count": 3,
      "outputs": []
    },
    {
      "cell_type": "code",
      "metadata": {
        "id": "Ic85lUacEHnL"
      },
      "source": [
        "logging.basicConfig(format=\"%(levelname)s:%(message)s\", level=logging.DEBUG)\n",
        "logger = logging.getLogger()"
      ],
      "execution_count": 4,
      "outputs": []
    },
    {
      "cell_type": "code",
      "metadata": {
        "id": "VJ0ygTkDfNVF"
      },
      "source": [
        "MANDATORY_COLUMNS = {\n",
        "    \"player_name\",\n",
        "    \"player_category\",\n",
        "    \"team_name\",\n",
        "    \"last_5_matches_points\",\n",
        "    \"cost\",\n",
        "}"
      ],
      "execution_count": 5,
      "outputs": []
    },
    {
      "cell_type": "code",
      "metadata": {
        "id": "9tK6fc8NfTrk"
      },
      "source": [
        "# Dream11 constraints\n",
        "MAX_PLAYERS = 11\n",
        "MAX_BATSMEN = 5\n",
        "MAX_ALLROUNDERS = 3\n",
        "MAX_BOWLERS = 5\n",
        "MAX_KEEPERS = 2\n",
        "MAX_COST = 100\n",
        "MAX_PLAYER_IN_EACH_TEAM = 7\n",
        "MANDATORY_INPUT_COLUMNS = {\n",
        "    \"team_name\",\n",
        "    \"player_name\",\n",
        "    \"cost\",\n",
        "    \"player_category\",\n",
        "    \"last_5_matches_points\",\n",
        "}"
      ],
      "execution_count": 6,
      "outputs": []
    },
    {
      "cell_type": "code",
      "metadata": {
        "id": "AeIIM_2XfX0R"
      },
      "source": [
        "HUMANFRIENDLY_COLUMNS = [\n",
        "    \"player_name\",\n",
        "    \"weighted_player_points\",\n",
        "    \"is_selected\",\n",
        "    \"cost\",\n",
        "    \"last_5_matches_points\",\n",
        "]"
      ],
      "execution_count": 7,
      "outputs": []
    },
    {
      "cell_type": "code",
      "metadata": {
        "id": "79E9qV-dfae2"
      },
      "source": [
        "def read_data(abs_filename: str) -> pd.DataFrame:\n",
        "    data = pd.read_excel(abs_filename) \n",
        "    data['last_5_matches_points'] = data.last_5_matches_points.apply(literal_eval)\n",
        "    print(data)\n",
        "    assert set(data.columns) == MANDATORY_COLUMNS\n",
        "\n",
        "    return data"
      ],
      "execution_count": 8,
      "outputs": []
    },
    {
      "cell_type": "code",
      "metadata": {
        "id": "2mwuyaYjfdNu"
      },
      "source": [
        "def compute_weighted_points(points_list: List, alpha: int = 0.20):\n",
        "    weights = np.exp(\n",
        "        list(reversed(np.array(range(1, len(points_list) + 1)) * alpha * -1))\n",
        "    )\n",
        "    exponential_weighted_average = np.average(np.array(points_list), weights=weights)\n",
        "    return exponential_weighted_average"
      ],
      "execution_count": 9,
      "outputs": []
    },
    {
      "cell_type": "code",
      "metadata": {
        "id": "irjzf6SQffU4"
      },
      "source": [
        "def _get_decision_variables(all_data: pd.DataFrame) -> pd.DataFrame:\n",
        "    # define decision variables for each row in the input dataframe\n",
        "\n",
        "    decision_variables = []\n",
        "\n",
        "    for rownum, row in all_data.iterrows():\n",
        "        variable = str(\"x_{}\".format(str(rownum)))\n",
        "        variable = p.LpVariable(variable, lowBound=0, upBound=1, cat=\"Integer\")\n",
        "        decision_variables.append(\n",
        "            {\"player_name\": row[\"player_name\"], \"pulp_variable\": variable}\n",
        "        )\n",
        "\n",
        "    return pd.DataFrame(decision_variables)"
      ],
      "execution_count": 10,
      "outputs": []
    },
    {
      "cell_type": "code",
      "metadata": {
        "id": "fDQZFLskfi-N"
      },
      "source": [
        "def _get_optimization_function(player_df: pd.DataFrame) -> p.LpProblem:\n",
        "    # Create optimization Function\n",
        "    prob = p.LpProblem(\"Dreamteam\", p.LpMaximize)\n",
        "\n",
        "    total_points = \"\"\n",
        "    for index, row in player_df.iterrows():\n",
        "        formula = row[\"weighted_player_points\"] * row[\"pulp_variable\"]\n",
        "        total_points += formula\n",
        "    prob += total_points\n",
        "    return prob"
      ],
      "execution_count": 11,
      "outputs": []
    },
    {
      "cell_type": "code",
      "metadata": {
        "id": "sDAdF-iFflLF"
      },
      "source": [
        "def _add_constraints(player_df: pd.DataFrame, optimization_prob: p.LpProblem):\n",
        "    total_keepers = \"\"\n",
        "    total_batsman = \"\"\n",
        "    total_allrounder = \"\"\n",
        "    total_bowler = \"\"\n",
        "    total_players = \"\"\n",
        "    total_cost = \"\"\n",
        "    total_team2 = \"\"\n",
        "    total_team1 = \"\"\n",
        "\n",
        "    for rownum, row in player_df.iterrows():\n",
        "        keeper_formula = row[\"player_category_wicket_keeper\"] * row[\"pulp_variable\"]\n",
        "        total_keepers += keeper_formula\n",
        "\n",
        "        batsman_formula = row[\"player_category_batsman\"] * row[\"pulp_variable\"]\n",
        "        total_batsman += batsman_formula\n",
        "\n",
        "        allrounder_formula = row[\"player_category_all_rounder\"] * row[\"pulp_variable\"]\n",
        "        total_allrounder += allrounder_formula\n",
        "\n",
        "        bowler_formula = row[\"player_category_bowler\"] * row[\"pulp_variable\"]\n",
        "        total_bowler += bowler_formula\n",
        "\n",
        "        total_players_formula = row[\"pulp_variable\"]\n",
        "        total_players += total_players_formula\n",
        "\n",
        "        total_cost_formula = row[\"cost\"] * row[\"pulp_variable\"]\n",
        "        total_cost += total_cost_formula\n",
        "\n",
        "        formula = row[\"team_name_RR\"] * row[\"pulp_variable\"]\n",
        "        total_team1 += formula\n",
        "\n",
        "        formula = row[\"team_name_PKS\"] * row[\"pulp_variable\"]\n",
        "        total_team2 += formula\n",
        "\n",
        "    \n",
        "    print(total_team2)\n",
        "    optimization_prob += total_keepers <= MAX_KEEPERS\n",
        "    optimization_prob += total_batsman <= MAX_BATSMEN\n",
        "    optimization_prob += total_allrounder <= MAX_ALLROUNDERS\n",
        "    optimization_prob += total_bowler <= MAX_BOWLERS\n",
        "    optimization_prob += total_players == MAX_PLAYERS\n",
        "    optimization_prob += total_cost <= MAX_COST\n",
        "    optimization_prob += total_team1 <= MAX_PLAYER_IN_EACH_TEAM\n",
        "    optimization_prob += total_team2 <= MAX_PLAYER_IN_EACH_TEAM\n",
        "\n",
        "    print(optimization_prob)\n",
        "    optimization_prob.writeLP(\"Dreamteam.lp\")\n",
        "    return optimization_prob"
      ],
      "execution_count": 12,
      "outputs": []
    },
    {
      "cell_type": "code",
      "metadata": {
        "id": "hko_4TmKfuwn"
      },
      "source": [
        "def caller(filepath):\n",
        "    #filepath: str = os.path.join(\".\", \"data\", \"dream11_performance_data.csv\")\n",
        "#) -> pd.DataFrame:\n",
        "    '''\n",
        "    if not os.path.exists(filepath):\n",
        "        logger.error(\n",
        "            f\"Filepath {filepath} does not exist. Make sure that the data is available at the desired location\"\n",
        "        )\n",
        "        raise FileNotFoundError(f\"filepath {filepath} does not exist\")'''\n",
        "    print(filepath)\n",
        "\n",
        "    raw_data = read_data(filepath)\n",
        "    print(raw_data)\n",
        "    assert (\n",
        "        set(raw_data.columns) == MANDATORY_INPUT_COLUMNS\n",
        "    ), f\"Invalid columns. CSV file must contain columns - {MANDATORY_INPUT_COLUMNS}\"\n",
        "\n",
        "    print(\"after assert\")\n",
        "\n",
        "    processed_player_data = pd.get_dummies(\n",
        "        raw_data, columns=[\"player_category\", \"team_name\"]\n",
        "    )\n",
        "    \n",
        "    processed_player_data[\"weighted_player_points\"] = processed_player_data[\n",
        "        \"last_5_matches_points\"\n",
        "    ].apply(compute_weighted_points)\n",
        "\n",
        "    print(\"after processed_player_data\")\n",
        "    decision_variables_df = _get_decision_variables(processed_player_data)\n",
        "    assert len(decision_variables_df) == len(processed_player_data), (\n",
        "        f\"Number of Decision Variables must be equal to the\"\n",
        "        f\"number of rows in the input file. Expected {len(processed_player_data)}\"\n",
        "        f\"Received {len(decision_variables_df)}\"\n",
        "    )\n",
        "    print(\"decision_variables_df\")\n",
        "    merged_processed_players_df = pd.merge(\n",
        "        processed_player_data, decision_variables_df, on=\"player_name\"\n",
        "    )\n",
        "    merged_processed_players_df[\"pulp_variable_name\"] = merged_processed_players_df[\n",
        "        \"pulp_variable\"\n",
        "    ].apply(lambda x: x.name)\n",
        "    print(\"after lambda\")\n",
        "\n",
        "    optimization_prob = _get_optimization_function(merged_processed_players_df)\n",
        "    \n",
        "    optimization_prob = _add_constraints(merged_processed_players_df, optimization_prob)\n",
        "    print(\"optimization_result\")\n",
        "    optimization_result = optimization_prob.solve()\n",
        "    \n",
        "\n",
        "    assert optimization_result != p.LpStatusNotSolved\n",
        "\n",
        "    solution_df = pd.DataFrame(\n",
        "        [\n",
        "            {\"pulp_variable_name\": v.name, \"is_selected\": v.varValue}\n",
        "            for v in optimization_prob.variables()\n",
        "        ]\n",
        "    )\n",
        "    optimized_players_df = pd.merge(\n",
        "        merged_processed_players_df, solution_df, on=\"pulp_variable_name\"\n",
        "    )\n",
        "\n",
        "    dream_team_df = optimized_players_df.loc[\n",
        "        optimized_players_df.is_selected == 1, HUMANFRIENDLY_COLUMNS\n",
        "    ]\n",
        "\n",
        "    assert len(dream_team_df) == MAX_PLAYERS, (\n",
        "        f\"there should be {MAX_PLAYERS} in the team but there are \"\n",
        "        f\"{len(dream_team_df)} players. Something went wrong.\"\n",
        "    )\n",
        "    logger.debug(\n",
        "        f\"This Team can earn you an estimated of {dream_team_df['weighted_player_points'].sum()}\"\n",
        "    #print(\"This Team can earn you an estimated of {dream_team_df['weighted_player_points'].sum()}\")\n",
        "    )\n",
        "    logger.debug(dream_team_df)\n",
        "    return dream_team_df"
      ],
      "execution_count": 13,
      "outputs": []
    },
    {
      "cell_type": "code",
      "metadata": {
        "colab": {
          "base_uri": "https://localhost:8080/"
        },
        "id": "8kXZnGZff0SX",
        "outputId": "32d05c9f-bf43-486d-d79b-18f3384d4617"
      },
      "source": [
        "if __name__ == \"__main__\":\n",
        "    parser = argparse.ArgumentParser()\n",
        "    parser.add_argument('--player_data_filepath', default=\"/content/gdrive/My Drive/RR_vs_PKS.xlsx\",\n",
        "                    type=str, help='Path to testfile')\n",
        "\n",
        "    args = parser.parse_args(args = [])\n",
        "    dream_team_df =caller(args.player_data_filepath)\n",
        "\n",
        "    print(dream_team_df)"
      ],
      "execution_count": 17,
      "outputs": [
        {
          "output_type": "stream",
          "name": "stdout",
          "text": [
            "/content/gdrive/My Drive/RR_vs_PKS.xlsx\n",
            "    cost   last_5_matches_points player_category        player_name team_name\n",
            "0    9.0         [0, 0, 0, 0, 0]         batsman         Evin Lewis        RR\n",
            "1    8.5      [18, 50, 39, 0, 0]         batsman   Yashasvi Jaiswal        RR\n",
            "2    9.5    [66, 59, 62, 29, 25]   wicket_keeper       Sanju Samson        RR\n",
            "3    8.5    [21, 13, 20, 37, 35]         batsman        Riyan Parag        RR\n",
            "4    8.5     [0, 49, 30, 65, 31]     all_rounder       Shivam Dube         RR\n",
            "5    9.0         [0, 0, 0, 0, 0]     all_rounder   Liam Livingstone        RR\n",
            "6    9.0      [25, 2, 9, 58, 57]     all_rounder      Rahul Tewatia        RR\n",
            "7    9.5  [107, 54, 136, 10, 60]     all_rounder       Chris Morris        RR\n",
            "8    8.5      [4, 14, 37, 4, 83]          bowler    Chetan Sakariya        RR\n",
            "9    8.0        [29, 0, 0, 0, 0]          bowler       Kartik Tyagi        RR\n",
            "10   9.0     [95, 35, 33, 4, 41]          bowler  Mustafizur Rahman        RR\n",
            "11   8.5         [0, 0, 0, 0, 0]          bowler     Tabraiz Shamsi        RR\n",
            "12   9.0      [21, 12, 39, 2, 6]         batsman      David Miller         RR\n",
            "13   8.0        [32, 0, 0, 0, 0]   wicket_keeper         Anuj Rawat        RR\n",
            "14   8.5         [0, 0, 0, 0, 0]         batsman     Glenn Philips         RR\n",
            "15   8.0       [0, 0, 0, 12, 21]         batsman       Manan Vohra         RR\n",
            "16   8.0         [0, 0, 0, 0, 0]         batsman     Mahipal Lomror        RR\n",
            "17   8.5       [0, 4, 31, 0, 30]          bowler     Jaidev Unadkat        RR\n",
            "18   8.5         [0, 0, 0, 9, 0]          bowler      Shreyas Gopal        RR\n",
            "19   8.5         [0, 0, 0, 0, 0]          bowler     Oshane Thomas         RR\n",
            "20   8.0         [0, 0, 0, 0, 0]          bowler        Akash Singh        RR\n",
            "21   8.0         [0, 0, 0, 0, 0]          bowler        KC Cariappa        RR\n",
            "22   8.0         [0, 0, 0, 0, 0]          bowler    Mayank Markande        RR\n",
            "23   7.5         [0, 0, 0, 0, 0]          bowler       Kuldip Yadav        RR\n",
            "24  11.0     [0, 132, 33, 89, 8]   wicket_keeper           KL Rahul       PKS\n",
            "25   8.5      [0, 10, 28, 12, 2]   wicket_keeper    Nicholas Pooran       PKS\n",
            "26   8.0       [18, 12, 0, 0, 0]   wicket_keeper  Prabhsimran Singh       PKS\n",
            "27   9.5    [141, 0, 44, 35, 36]         batsman     Mayank Agarwal       PKS\n",
            "28   9.5     [20, 70, 2, 68, 21]         batsman        Chris Gayle       PKS\n",
            "29   8.5         [0, 0, 0, 0, 0]         batsman      Aiden Markram       PKS\n",
            "30   8.0       [8, 2, 35, 4, 30]         batsman      Shahrukh Khan       PKS\n",
            "31   8.0         [0, 0, 0, 0, 0]         batsman      Mandeep Singh       PKS\n",
            "32   8.0         [0, 0, 0, 0, 0]         batsman      Sarfaraz Khan       PKS\n",
            "33   8.5      [9, 9, 28, 41, 23]     all_rounder       Deepak Hooda       PKS\n",
            "34   8.5       [0, 0, 0, 10, 47]     all_rounder       Fabian Allen       PKS\n",
            "35   8.0      [0, 0, 31, 18, 18]     all_rounder   Moises Henriques       PKS\n",
            "36   8.0         [0, 0, 0, 0, 0]     all_rounder       Jalaj Saxena       PKS\n",
            "37   8.0         [0, 0, 0, 0, 0]     all_rounder      Utkarsh Singh       PKS\n",
            "38   9.0     [-2, 29, 40, 58, 7]          bowler     Mohammed Shami       PKS\n",
            "39   8.5       [0, 0, 34, 29, 5]          bowler     Arshdeep Singh       PKS\n",
            "40   8.5      [2, 76, 19, 58, 0]          bowler       Ravi Bishnoi       PKS\n",
            "41   8.5      [29, 29, 45, 0, 0]          bowler       Chris Jordan       PKS\n",
            "42   8.5         [0, 0, 0, 0, 0]          bowler        Adil Rashid       PKS\n",
            "43   8.0      [44, 155, 0, 0, 0]          bowler      Harpreet Brar       PKS\n",
            "44   8.0        [0, 0, 0, 0, 18]          bowler     Murugan Ashwin       PKS\n",
            "45   8.0         [0, 0, 0, 0, 0]          bowler   Darshan Nalkande       PKS\n",
            "46   8.0         [0, 0, 0, 0, 0]          bowler        Ishan Porel       PKS\n",
            "47   8.0         [0, 0, 0, 0, 0]          bowler       Nathan Ellis       PKS\n",
            "48   8.0         [0, 0, 0, 0, 0]          bowler      Saurabh Kumar       PKS\n"
          ]
        },
        {
          "output_type": "stream",
          "name": "stderr",
          "text": [
            "DEBUG:/usr/local/lib/python3.7/dist-packages/pulp/apis/../solverdir/cbc/linux/64/cbc /tmp/ad10e258b45845bfa014e293aa03464d-pulp.mps max branch printingOptions all solution /tmp/ad10e258b45845bfa014e293aa03464d-pulp.sol \n",
            "DEBUG:This Team can earn you an estimated of 438.96656687605014\n",
            "DEBUG:          player_name  weighted_player_points  ...  cost   last_5_matches_points\n",
            "2        Sanju Samson               43.685194  ...   9.5    [66, 59, 62, 29, 25]\n",
            "3         Riyan Parag               27.319951  ...   8.5    [21, 13, 20, 37, 35]\n",
            "4        Shivam Dube                37.628812  ...   8.5     [0, 49, 30, 65, 31]\n",
            "7        Chris Morris               67.981603  ...   9.5  [107, 54, 136, 10, 60]\n",
            "8     Chetan Sakariya               34.571502  ...   8.5      [4, 14, 37, 4, 83]\n",
            "10  Mustafizur Rahman               36.788960  ...   9.0     [95, 35, 33, 4, 41]\n",
            "24           KL Rahul               50.307171  ...  11.0     [0, 132, 33, 89, 8]\n",
            "27     Mayank Agarwal               45.166733  ...   9.5    [141, 0, 44, 35, 36]\n",
            "28        Chris Gayle               35.965254  ...   9.5     [20, 70, 2, 68, 21]\n",
            "40       Ravi Bishnoi               29.488145  ...   8.5      [2, 76, 19, 58, 0]\n",
            "43      Harpreet Brar               30.063242  ...   8.0      [44, 155, 0, 0, 0]\n",
            "\n",
            "[11 rows x 5 columns]\n"
          ]
        },
        {
          "output_type": "stream",
          "name": "stdout",
          "text": [
            "    cost   last_5_matches_points player_category        player_name team_name\n",
            "0    9.0         [0, 0, 0, 0, 0]         batsman         Evin Lewis        RR\n",
            "1    8.5      [18, 50, 39, 0, 0]         batsman   Yashasvi Jaiswal        RR\n",
            "2    9.5    [66, 59, 62, 29, 25]   wicket_keeper       Sanju Samson        RR\n",
            "3    8.5    [21, 13, 20, 37, 35]         batsman        Riyan Parag        RR\n",
            "4    8.5     [0, 49, 30, 65, 31]     all_rounder       Shivam Dube         RR\n",
            "5    9.0         [0, 0, 0, 0, 0]     all_rounder   Liam Livingstone        RR\n",
            "6    9.0      [25, 2, 9, 58, 57]     all_rounder      Rahul Tewatia        RR\n",
            "7    9.5  [107, 54, 136, 10, 60]     all_rounder       Chris Morris        RR\n",
            "8    8.5      [4, 14, 37, 4, 83]          bowler    Chetan Sakariya        RR\n",
            "9    8.0        [29, 0, 0, 0, 0]          bowler       Kartik Tyagi        RR\n",
            "10   9.0     [95, 35, 33, 4, 41]          bowler  Mustafizur Rahman        RR\n",
            "11   8.5         [0, 0, 0, 0, 0]          bowler     Tabraiz Shamsi        RR\n",
            "12   9.0      [21, 12, 39, 2, 6]         batsman      David Miller         RR\n",
            "13   8.0        [32, 0, 0, 0, 0]   wicket_keeper         Anuj Rawat        RR\n",
            "14   8.5         [0, 0, 0, 0, 0]         batsman     Glenn Philips         RR\n",
            "15   8.0       [0, 0, 0, 12, 21]         batsman       Manan Vohra         RR\n",
            "16   8.0         [0, 0, 0, 0, 0]         batsman     Mahipal Lomror        RR\n",
            "17   8.5       [0, 4, 31, 0, 30]          bowler     Jaidev Unadkat        RR\n",
            "18   8.5         [0, 0, 0, 9, 0]          bowler      Shreyas Gopal        RR\n",
            "19   8.5         [0, 0, 0, 0, 0]          bowler     Oshane Thomas         RR\n",
            "20   8.0         [0, 0, 0, 0, 0]          bowler        Akash Singh        RR\n",
            "21   8.0         [0, 0, 0, 0, 0]          bowler        KC Cariappa        RR\n",
            "22   8.0         [0, 0, 0, 0, 0]          bowler    Mayank Markande        RR\n",
            "23   7.5         [0, 0, 0, 0, 0]          bowler       Kuldip Yadav        RR\n",
            "24  11.0     [0, 132, 33, 89, 8]   wicket_keeper           KL Rahul       PKS\n",
            "25   8.5      [0, 10, 28, 12, 2]   wicket_keeper    Nicholas Pooran       PKS\n",
            "26   8.0       [18, 12, 0, 0, 0]   wicket_keeper  Prabhsimran Singh       PKS\n",
            "27   9.5    [141, 0, 44, 35, 36]         batsman     Mayank Agarwal       PKS\n",
            "28   9.5     [20, 70, 2, 68, 21]         batsman        Chris Gayle       PKS\n",
            "29   8.5         [0, 0, 0, 0, 0]         batsman      Aiden Markram       PKS\n",
            "30   8.0       [8, 2, 35, 4, 30]         batsman      Shahrukh Khan       PKS\n",
            "31   8.0         [0, 0, 0, 0, 0]         batsman      Mandeep Singh       PKS\n",
            "32   8.0         [0, 0, 0, 0, 0]         batsman      Sarfaraz Khan       PKS\n",
            "33   8.5      [9, 9, 28, 41, 23]     all_rounder       Deepak Hooda       PKS\n",
            "34   8.5       [0, 0, 0, 10, 47]     all_rounder       Fabian Allen       PKS\n",
            "35   8.0      [0, 0, 31, 18, 18]     all_rounder   Moises Henriques       PKS\n",
            "36   8.0         [0, 0, 0, 0, 0]     all_rounder       Jalaj Saxena       PKS\n",
            "37   8.0         [0, 0, 0, 0, 0]     all_rounder      Utkarsh Singh       PKS\n",
            "38   9.0     [-2, 29, 40, 58, 7]          bowler     Mohammed Shami       PKS\n",
            "39   8.5       [0, 0, 34, 29, 5]          bowler     Arshdeep Singh       PKS\n",
            "40   8.5      [2, 76, 19, 58, 0]          bowler       Ravi Bishnoi       PKS\n",
            "41   8.5      [29, 29, 45, 0, 0]          bowler       Chris Jordan       PKS\n",
            "42   8.5         [0, 0, 0, 0, 0]          bowler        Adil Rashid       PKS\n",
            "43   8.0      [44, 155, 0, 0, 0]          bowler      Harpreet Brar       PKS\n",
            "44   8.0        [0, 0, 0, 0, 18]          bowler     Murugan Ashwin       PKS\n",
            "45   8.0         [0, 0, 0, 0, 0]          bowler   Darshan Nalkande       PKS\n",
            "46   8.0         [0, 0, 0, 0, 0]          bowler        Ishan Porel       PKS\n",
            "47   8.0         [0, 0, 0, 0, 0]          bowler       Nathan Ellis       PKS\n",
            "48   8.0         [0, 0, 0, 0, 0]          bowler      Saurabh Kumar       PKS\n",
            "after assert\n",
            "after processed_player_data\n",
            "decision_variables_df\n",
            "after lambda\n",
            "x_24 + x_25 + x_26 + x_27 + x_28 + x_29 + x_30 + x_31 + x_32 + x_33 + x_34 + x_35 + x_36 + x_37 + x_38 + x_39 + x_40 + x_41 + x_42 + x_43 + x_44 + x_45 + x_46 + x_47 + x_48\n",
            "Dreamteam:\n",
            "MAXIMIZE\n",
            "17.68500145020458*x_1 + 36.788959565211236*x_10 + 14.281289862890118*x_12 + 4.12323993874693*x_13 + 8.83942563144184*x_15 + 15.191356568996207*x_17 + 2.1130405343189413*x_18 + 43.685194017239354*x_2 + 50.307171135341726*x_24 + 10.346964807799052*x_25 + 4.207873703198273*x_26 + 45.16673284819388*x_27 + 35.96525419699692*x_28 + 27.3199510410374*x_3 + 17.6154310373035*x_30 + 24.17997118925593*x_33 + 15.825717952121655*x_34 + 15.346755842787855*x_35 + 27.6199537132054*x_38 + 14.778102921006964*x_39 + 37.62881226569602*x_4 + 29.488145343696626*x_40 + 16.95074135855403*x_41 + 30.063241735463233*x_43 + 5.161747073442787*x_44 + 35.22895574121525*x_6 + 67.98160300210175*x_7 + 34.57150172507197*x_8 + 3.736686194489405*x_9 + 0.0\n",
            "SUBJECT TO\n",
            "_C1: x_13 + x_2 + x_24 + x_25 + x_26 <= 2\n",
            "\n",
            "_C2: x_0 + x_1 + x_12 + x_14 + x_15 + x_16 + x_27 + x_28 + x_29 + x_3 + x_30\n",
            " + x_31 + x_32 <= 5\n",
            "\n",
            "_C3: x_33 + x_34 + x_35 + x_36 + x_37 + x_4 + x_5 + x_6 + x_7 <= 3\n",
            "\n",
            "_C4: x_10 + x_11 + x_17 + x_18 + x_19 + x_20 + x_21 + x_22 + x_23 + x_38\n",
            " + x_39 + x_40 + x_41 + x_42 + x_43 + x_44 + x_45 + x_46 + x_47 + x_48 + x_8\n",
            " + x_9 <= 5\n",
            "\n",
            "_C5: x_0 + x_1 + x_10 + x_11 + x_12 + x_13 + x_14 + x_15 + x_16 + x_17 + x_18\n",
            " + x_19 + x_2 + x_20 + x_21 + x_22 + x_23 + x_24 + x_25 + x_26 + x_27 + x_28\n",
            " + x_29 + x_3 + x_30 + x_31 + x_32 + x_33 + x_34 + x_35 + x_36 + x_37 + x_38\n",
            " + x_39 + x_4 + x_40 + x_41 + x_42 + x_43 + x_44 + x_45 + x_46 + x_47 + x_48\n",
            " + x_5 + x_6 + x_7 + x_8 + x_9 = 11\n",
            "\n",
            "_C6: 9 x_0 + 8.5 x_1 + 9 x_10 + 8.5 x_11 + 9 x_12 + 8 x_13 + 8.5 x_14 + 8 x_15\n",
            " + 8 x_16 + 8.5 x_17 + 8.5 x_18 + 8.5 x_19 + 9.5 x_2 + 8 x_20 + 8 x_21\n",
            " + 8 x_22 + 7.5 x_23 + 11 x_24 + 8.5 x_25 + 8 x_26 + 9.5 x_27 + 9.5 x_28\n",
            " + 8.5 x_29 + 8.5 x_3 + 8 x_30 + 8 x_31 + 8 x_32 + 8.5 x_33 + 8.5 x_34\n",
            " + 8 x_35 + 8 x_36 + 8 x_37 + 9 x_38 + 8.5 x_39 + 8.5 x_4 + 8.5 x_40\n",
            " + 8.5 x_41 + 8.5 x_42 + 8 x_43 + 8 x_44 + 8 x_45 + 8 x_46 + 8 x_47 + 8 x_48\n",
            " + 9 x_5 + 9 x_6 + 9.5 x_7 + 8.5 x_8 + 8 x_9 <= 100\n",
            "\n",
            "_C7: x_0 + x_1 + x_10 + x_11 + x_12 + x_13 + x_14 + x_15 + x_16 + x_17 + x_18\n",
            " + x_19 + x_2 + x_20 + x_21 + x_22 + x_23 + x_3 + x_4 + x_5 + x_6 + x_7 + x_8\n",
            " + x_9 <= 7\n",
            "\n",
            "_C8: x_24 + x_25 + x_26 + x_27 + x_28 + x_29 + x_30 + x_31 + x_32 + x_33\n",
            " + x_34 + x_35 + x_36 + x_37 + x_38 + x_39 + x_40 + x_41 + x_42 + x_43 + x_44\n",
            " + x_45 + x_46 + x_47 + x_48 <= 7\n",
            "\n",
            "VARIABLES\n",
            "0 <= x_0 <= 1 Integer\n",
            "0 <= x_1 <= 1 Integer\n",
            "0 <= x_10 <= 1 Integer\n",
            "0 <= x_11 <= 1 Integer\n",
            "0 <= x_12 <= 1 Integer\n",
            "0 <= x_13 <= 1 Integer\n",
            "0 <= x_14 <= 1 Integer\n",
            "0 <= x_15 <= 1 Integer\n",
            "0 <= x_16 <= 1 Integer\n",
            "0 <= x_17 <= 1 Integer\n",
            "0 <= x_18 <= 1 Integer\n",
            "0 <= x_19 <= 1 Integer\n",
            "0 <= x_2 <= 1 Integer\n",
            "0 <= x_20 <= 1 Integer\n",
            "0 <= x_21 <= 1 Integer\n",
            "0 <= x_22 <= 1 Integer\n",
            "0 <= x_23 <= 1 Integer\n",
            "0 <= x_24 <= 1 Integer\n",
            "0 <= x_25 <= 1 Integer\n",
            "0 <= x_26 <= 1 Integer\n",
            "0 <= x_27 <= 1 Integer\n",
            "0 <= x_28 <= 1 Integer\n",
            "0 <= x_29 <= 1 Integer\n",
            "0 <= x_3 <= 1 Integer\n",
            "0 <= x_30 <= 1 Integer\n",
            "0 <= x_31 <= 1 Integer\n",
            "0 <= x_32 <= 1 Integer\n",
            "0 <= x_33 <= 1 Integer\n",
            "0 <= x_34 <= 1 Integer\n",
            "0 <= x_35 <= 1 Integer\n",
            "0 <= x_36 <= 1 Integer\n",
            "0 <= x_37 <= 1 Integer\n",
            "0 <= x_38 <= 1 Integer\n",
            "0 <= x_39 <= 1 Integer\n",
            "0 <= x_4 <= 1 Integer\n",
            "0 <= x_40 <= 1 Integer\n",
            "0 <= x_41 <= 1 Integer\n",
            "0 <= x_42 <= 1 Integer\n",
            "0 <= x_43 <= 1 Integer\n",
            "0 <= x_44 <= 1 Integer\n",
            "0 <= x_45 <= 1 Integer\n",
            "0 <= x_46 <= 1 Integer\n",
            "0 <= x_47 <= 1 Integer\n",
            "0 <= x_48 <= 1 Integer\n",
            "0 <= x_5 <= 1 Integer\n",
            "0 <= x_6 <= 1 Integer\n",
            "0 <= x_7 <= 1 Integer\n",
            "0 <= x_8 <= 1 Integer\n",
            "0 <= x_9 <= 1 Integer\n",
            "\n",
            "optimization_result\n",
            "          player_name  weighted_player_points  ...  cost   last_5_matches_points\n",
            "2        Sanju Samson               43.685194  ...   9.5    [66, 59, 62, 29, 25]\n",
            "3         Riyan Parag               27.319951  ...   8.5    [21, 13, 20, 37, 35]\n",
            "4        Shivam Dube                37.628812  ...   8.5     [0, 49, 30, 65, 31]\n",
            "7        Chris Morris               67.981603  ...   9.5  [107, 54, 136, 10, 60]\n",
            "8     Chetan Sakariya               34.571502  ...   8.5      [4, 14, 37, 4, 83]\n",
            "10  Mustafizur Rahman               36.788960  ...   9.0     [95, 35, 33, 4, 41]\n",
            "24           KL Rahul               50.307171  ...  11.0     [0, 132, 33, 89, 8]\n",
            "27     Mayank Agarwal               45.166733  ...   9.5    [141, 0, 44, 35, 36]\n",
            "28        Chris Gayle               35.965254  ...   9.5     [20, 70, 2, 68, 21]\n",
            "40       Ravi Bishnoi               29.488145  ...   8.5      [2, 76, 19, 58, 0]\n",
            "43      Harpreet Brar               30.063242  ...   8.0      [44, 155, 0, 0, 0]\n",
            "\n",
            "[11 rows x 5 columns]\n"
          ]
        }
      ]
    },
    {
      "cell_type": "code",
      "metadata": {
        "colab": {
          "base_uri": "https://localhost:8080/"
        },
        "id": "o4ZvriT3xTMM",
        "outputId": "cf0da52b-b9ba-43a5-d593-0440925521b8"
      },
      "source": [
        "!ls \"/content/gdrive/My Drive/RR_vs_PKS.xlsx\""
      ],
      "execution_count": 15,
      "outputs": [
        {
          "output_type": "stream",
          "name": "stdout",
          "text": [
            "'/content/gdrive/My Drive/RR_vs_PKS.xlsx'\n"
          ]
        }
      ]
    }
  ]
}